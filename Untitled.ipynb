{
 "cells": [
  {
   "cell_type": "code",
   "execution_count": 23,
   "metadata": {},
   "outputs": [],
   "source": [
    "from keras.preprocessing.image import ImageDataGenerator \n",
    "from keras.models import Sequential \n",
    "from keras.layers import Conv2D, MaxPooling2D \n",
    "from keras.layers import Activation, Dropout, Flatten, Dense \n",
    "from keras import backend as K \n",
    "from PIL import Image"
   ]
  },
  {
   "cell_type": "code",
   "execution_count": 24,
   "metadata": {},
   "outputs": [
    {
     "name": "stdout",
     "output_type": "stream",
     "text": [
      "Found 1315 images belonging to 2 classes.\n"
     ]
    }
   ],
   "source": [
    "train_datagen=ImageDataGenerator(rescale=1./255,shear_range=0.2,zoom_range=0.2,horizontal_flip=True)\n",
    "train_data=train_datagen.flow_from_directory('Dataset/train',target_size=(96,96),batch_size=32,class_mode='categorical')"
   ]
  },
  {
   "cell_type": "code",
   "execution_count": 25,
   "metadata": {},
   "outputs": [],
   "source": [
    "model=Sequential()\n",
    "model.add(Conv2D(32,(3,3),padding='same',input_shape=(96,96,3)))\n",
    "model.add(Activation('relu'))\n",
    "model.add(MaxPooling2D((2,2),padding='same'))\n",
    "model.add(Conv2D(16,(3,3),padding='same'))\n",
    "model.add(Activation('relu'))\n",
    "model.add(MaxPooling2D((2,2),padding='same'))\n",
    "model.add(Flatten())\n",
    "model.add(Dense(2,activation='softmax'))\n"
   ]
  },
  {
   "cell_type": "code",
   "execution_count": 26,
   "metadata": {},
   "outputs": [],
   "source": [
    "model.compile(optimizer='adam',loss='categorical_crossentropy',metrics=['accuracy'])"
   ]
  },
  {
   "cell_type": "code",
   "execution_count": 27,
   "metadata": {},
   "outputs": [
    {
     "name": "stdout",
     "output_type": "stream",
     "text": [
      "Epoch 1/10\n",
      "40/40 [==============================] - 10s 253ms/step - loss: 0.6818 - accuracy: 0.5596\n",
      "Epoch 2/10\n",
      "40/40 [==============================] - 11s 268ms/step - loss: 0.3739 - accuracy: 0.8945\n",
      "Epoch 3/10\n",
      "40/40 [==============================] - 11s 285ms/step - loss: 0.2245 - accuracy: 0.9137\n",
      "Epoch 4/10\n",
      "40/40 [==============================] - 12s 294ms/step - loss: 0.2037 - accuracy: 0.9217\n",
      "Epoch 5/10\n",
      "40/40 [==============================] - 12s 288ms/step - loss: 0.1629 - accuracy: 0.9321\n",
      "Epoch 6/10\n",
      "40/40 [==============================] - 11s 281ms/step - loss: 0.1434 - accuracy: 0.9400\n",
      "Epoch 7/10\n",
      "40/40 [==============================] - 11s 283ms/step - loss: 0.1489 - accuracy: 0.9408\n",
      "Epoch 8/10\n",
      "40/40 [==============================] - 11s 287ms/step - loss: 0.1203 - accuracy: 0.9516\n",
      "Epoch 9/10\n",
      "40/40 [==============================] - 11s 278ms/step - loss: 0.1114 - accuracy: 0.9608\n",
      "Epoch 10/10\n",
      "40/40 [==============================] - 11s 284ms/step - loss: 0.1045 - accuracy: 0.9624\n"
     ]
    },
    {
     "data": {
      "text/plain": [
       "<tensorflow.python.keras.callbacks.History at 0x2e318641448>"
      ]
     },
     "execution_count": 27,
     "metadata": {},
     "output_type": "execute_result"
    }
   ],
   "source": [
    "model.fit_generator(train_data,steps_per_epoch=40,epochs=10)"
   ]
  },
  {
   "cell_type": "code",
   "execution_count": 28,
   "metadata": {},
   "outputs": [
    {
     "name": "stdout",
     "output_type": "stream",
     "text": [
      "42/42 [==============================] - 7s 164ms/step - loss: 0.0896 - accuracy: 0.9711\n",
      "0.9711026549339294\n"
     ]
    }
   ],
   "source": [
    "#preds=model.predict(train_data)\n",
    "loss,accuracy=model.evaluate(train_data)\n",
    "print(accuracy)"
   ]
  },
  {
   "cell_type": "code",
   "execution_count": 29,
   "metadata": {},
   "outputs": [],
   "source": [
    "model.save('mask.h5')"
   ]
  },
  {
   "cell_type": "code",
   "execution_count": 30,
   "metadata": {},
   "outputs": [],
   "source": [
    "model.save_weights('mask_weights.h5')"
   ]
  },
  {
   "cell_type": "code",
   "execution_count": null,
   "metadata": {},
   "outputs": [],
   "source": []
  }
 ],
 "metadata": {
  "kernelspec": {
   "display_name": "Python 3",
   "language": "python",
   "name": "python3"
  },
  "language_info": {
   "codemirror_mode": {
    "name": "ipython",
    "version": 3
   },
   "file_extension": ".py",
   "mimetype": "text/x-python",
   "name": "python",
   "nbconvert_exporter": "python",
   "pygments_lexer": "ipython3",
   "version": "3.7.6"
  }
 },
 "nbformat": 4,
 "nbformat_minor": 4
}
